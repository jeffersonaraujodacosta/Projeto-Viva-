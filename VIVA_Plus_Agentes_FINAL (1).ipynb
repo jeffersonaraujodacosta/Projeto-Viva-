{
  "cells": [
    {
      "cell_type": "code",
      "source": [
        "# Instalação da biblioteca necessária\n",
        "!pip -q install google-genai"
      ],
      "metadata": {
        "id": "TszcUf29BBvJ"
      },
      "id": "TszcUf29BBvJ",
      "execution_count": null,
      "outputs": []
    },
    {
      "cell_type": "code",
      "source": [
        "# 🔐 Configurar chave da API - google - gemini\n",
        "import os\n",
        "from google.colab import userdata\n",
        "\n",
        "os.environ[\"GOOGLE_API_KEY\"] = userdata.get('GOOGLE_API_KEY')"
      ],
      "metadata": {
        "id": "Btz8rgvJBSR0"
      },
      "id": "Btz8rgvJBSR0",
      "execution_count": null,
      "outputs": []
    },
    {
      "cell_type": "code",
      "source": [
        "# Configura o cliente da SDK do Gemini\n",
        "\n",
        "from google import genai\n",
        "\n",
        "client = genai.Client()\n",
        "\n",
        "MODEL_ID = \"gemini-2.0-flash\""
      ],
      "metadata": {
        "id": "ftsEbBmpDBtU"
      },
      "id": "ftsEbBmpDBtU",
      "execution_count": null,
      "outputs": []
    },
    {
      "cell_type": "code",
      "source": [
        "!pip install -q google-adk\n"
      ],
      "metadata": {
        "id": "LwUWmoGnE1_H"
      },
      "id": "LwUWmoGnE1_H",
      "execution_count": null,
      "outputs": []
    },
    {
      "cell_type": "code",
      "source": [
        "# Importação das Bibliotecas Necessárias\n",
        "\n",
        "import os\n",
        "from datetime import date\n",
        "import textwrap\n",
        "from typing import Dict, List\n",
        "import warnings\n",
        "warnings.filterwarnings(\"ignore\")"
      ],
      "metadata": {
        "id": "UKT1JhWXtjBx"
      },
      "id": "UKT1JhWXtjBx",
      "execution_count": null,
      "outputs": []
    },
    {
      "cell_type": "code",
      "source": [
        "# Importações organizadas\n",
        "\n",
        "# from google.adk.agents import Agent\n",
        "# from google.adk.runners import Runner\n",
        "# from google.adk.sessions import InMemorySessionService\n",
        "# from google.adk.tools import google_search\n",
        "# from google.genai import types  # Para criar conteúdos (Content e Part)\n",
        "import textwrap\n",
        "from typing import Dict, List\n",
        "import warnings\n",
        "warnings.filterwarnings(\"ignore\")\n",
        "\n"
      ],
      "metadata": {
        "id": "VOlkR5EDF77U"
      },
      "id": "VOlkR5EDF77U",
      "execution_count": null,
      "outputs": []
    },
    {
      "cell_type": "code",
      "source": [
        "# 🕒 Definir data atual\n",
        "from datetime import datetime # Importar datetime para usar datetime.now()\n",
        "data_de_hoje = datetime.now().strftime(\"%d/%m/%Y\")\n",
        "\n",
        "\n",
        "# Função auxiliar para executar agente\n",
        "def call_agent(agent: Agent, message_text: str) -> str:\n",
        "    \"\"\"Envia uma mensagem para um agente e retorna a resposta final.\n",
        "\n",
        "    Args:\n",
        "        agent: O agente para o qual enviar a mensagem.\n",
        "               Este deve ser uma instância da classe Agent.\n",
        "        message_text: O texto a ser enviado.\n",
        "\n",
        "    Returns:\n",
        "        A resposta final do agente como uma string.\n",
        "    \"\"\"\n",
        "    session_service = InMemorySessionService()\n",
        "    session = session_service.create_session(\n",
        "        app_name=agent.name, user_id=\"user1\", session_id=\"session1\"\n",
        "    )\n",
        "    runner = Runner(agent=agent, app_name=agent.name, session_service=session_service)\n",
        "    content = types.Content(role=\"user\", parts=[types.Part(text=message_text)])\n",
        "\n",
        "    final_response = \"\"\n",
        "    for event in runner.run(user_id=\"user1\", session_id=\"session1\", new_message=content):\n",
        "        if event.is_final_response():\n",
        "            for part in event.content.parts:\n",
        "                if part.text is not None:\n",
        "                    final_response += part.text\n",
        "                    final_response += \"\\n\"\n",
        "    return final_response\n",
        "\n"
      ],
      "metadata": {
        "id": "Q3QV8_jEGqNq"
      },
      "id": "Q3QV8_jEGqNq",
      "execution_count": null,
      "outputs": []
    },
    {
      "cell_type": "code",
      "source": [
        "# 💬 Markdown formatado para exibir\n",
        "\n",
        "import textwrap # Ensure textwrap is imported for textwrap.indent\n",
        "\n",
        "def to_markdown(text): # Define the to_markdown function\n",
        "    \"\"\"Formata o texto para exibição em Markdown.\n",
        "\n",
        "    Args:\n",
        "        text: O texto a ser formatado.\n",
        "\n",
        "    Returns:\n",
        "        Uma string contendo o texto formatado em Markdown.\n",
        "    \"\"\"\n",
        "    text = text.replace(\"•\", \"  *\")\n",
        "    return textwrap.indent(text, \"> \", predicate=lambda _: True)\n",
        "\n",
        "my_string = \"Some text to format\"\n",
        "display(to_markdown(my_string)) # Now this should work\n"
      ],
      "metadata": {
        "id": "RI8cRniOG50z",
        "colab": {
          "base_uri": "https://localhost:8080/",
          "height": 36
        },
        "outputId": "fb7c7843-1a7f-4d03-f35f-3fd7a3e17be0"
      },
      "id": "RI8cRniOG50z",
      "execution_count": null,
      "outputs": [
        {
          "output_type": "display_data",
          "data": {
            "text/plain": [
              "'> Some text to format'"
            ],
            "application/vnd.google.colaboratory.intrinsic+json": {
              "type": "string"
            }
          },
          "metadata": {}
        }
      ]
    },
    {
      "cell_type": "code",
      "source": [
        "# Agente 1: Agente Radar Interno\n",
        "\n",
        "def agente_radar_interno():\n",
        "    \"\"\"\n",
        "    Agente para coletar o estado emocional do utilizador.\n",
        "    \"\"\"\n",
        "    radar_interno = Agent(\n",
        "        name=\"agente_radar_interno\",\n",
        "        model=MODEL_ID,\n",
        "        instruction=\"\"\"\n",
        "        Você é um agente de IA chamado Radar Interno. A sua função é ajudar o utilizador a identificar e expressar o seu estado emocional no início do dia.\n",
        "        Faça uma única pergunta direta e amigável para o utilizador descrever como está a sentir-se,\n",
        "        tanto mentalmente quanto emocionalmente e fisicamente.\n",
        "        \"\"\",\n",
        "        description=\"Agente que coleta o estado emocional do utilizador.\",\n",
        "    )\n",
        "    pergunta_radar_interno = call_agent(\n",
        "        radar_interno,\n",
        "        \"Diz-me com sinceridade: como te sentes hoje? 🧠 Mental / ❤️ Emoção / ⚡ Corpo / 🌪️ Caos total\",\n",
        "    )\n",
        "    return pergunta_radar_interno"
      ],
      "metadata": {
        "id": "3ZC2NikaHDk6"
      },
      "id": "3ZC2NikaHDk6",
      "execution_count": null,
      "outputs": []
    },
    {
      "cell_type": "code",
      "source": [
        "#Agente 2: Agente de Ação Consciente\n",
        "\n",
        "def agente_acao_consciente(estado_emocional: str) -> str:\n",
        "    \"\"\"\n",
        "    Agente para sugerir microações, foco e autocuidado com base no estado emocional do utilizador.\n",
        "\n",
        "Args:\n",
        "    estado_emocional: O estado emocional do utilizador (string).\n",
        "\n",
        "Returns:\n",
        "    A sugestão de microação, foco e autocuidado.\n",
        "  \"\"\"\n",
        "    # Ensure these lines are correctly indented within the function\n",
        "    acao_consciente = Agent(\n",
        "        name=\"agente_acao_consciente\",\n",
        "        model=MODEL_ID,\n",
        "        instruction=f\"\"\"\n",
        "    Você é um agente de IA chamado Ação Consciente. A sua função é fornecer sugestões de microações, foco e autocuidado\n",
        "    com base no estado emocional do utilizador. Use uma linguagem concisa e direta. O estado emocional do utilizador é: {estado_emocional}.\n",
        "    Gere a resposta com base nesse estado emocional.\n",
        "    \"\"\",\n",
        "        description=\"Agente que sugere ações para o utilizador.\",\n",
        "    )\n",
        "\n",
        "    resposta_agente_acao_consciente = call_agent(\n",
        "        acao_consciente, \"Gere sugestões de microação, foco e autocuidado.\"\n",
        "    )\n",
        "    # Ensure this return statement is correctly indented\n",
        "    return resposta_agente_acao_consciente"
      ],
      "metadata": {
        "id": "C4oa-McoHHqf"
      },
      "id": "C4oa-McoHHqf",
      "execution_count": null,
      "outputs": []
    },
    {
      "source": [
        "# 🎁 Agente3: Agente de Recompensa do Bem\n",
        "def agente_recompensa_do_bem() -> str:\n",
        "    \"\"\"\n",
        "    Agente para oferecer uma mini recompensa (frase, desafio leve ou áudio).\n",
        "    \"\"\"\n",
        "    recompensa_do_bem = Agent(\n",
        "        name=\"agente_recompensa_do_bem\",\n",
        "        model=MODEL_ID,\n",
        "        instruction=\"\"\"\n",
        "Você é um agente de IA chamado Recompensa do Bem. A sua função é oferecer uma pequena recompensa ou incentivo ao utilizador,\n",
        "como uma frase motivacional, um desafio leve ou uma sugestão de áudio inspirador. Use uma linguagem breve e inspiradora.\n",
        "\"\"\",\n",
        "        description=\"Agente que oferece recompensas e incentivos.\",\n",
        "    )\n",
        "    resposta_agente_recompensa = call_agent(\n",
        "        recompensa_do_bem, \"Gere uma frase motivacional.\"\n",
        "    )\n",
        "    return resposta_agente_recompensa"
      ],
      "cell_type": "code",
      "metadata": {
        "id": "E7VL582f_PO9"
      },
      "id": "E7VL582f_PO9",
      "execution_count": null,
      "outputs": []
    },
    {
      "source": [
        "# ✍️ Agente 4: Agente de Reflexão\n",
        "def agente_reflexao() -> str:\n",
        "    \"\"\"\n",
        "    Agente para coletar a reflexão diária e a gratidão do utilizador.\n",
        "    \"\"\"\n",
        "    reflexao = Agent(\n",
        "        name=\"agente_reflexao\",\n",
        "        model=MODEL_ID,\n",
        "        instruction=\"\"\"\n",
        "Você é um agente de IA chamado Reflexão. A sua função é guiar o utilizador a refletir sobre o dia que passou\n",
        "e expressar gratidão. Faça duas perguntas abertas para estimular a reflexão e o autoconhecimento.\n",
        "\"\"\",\n",
        "        description=\"Agente que guia a reflexão diária do utilizador.\",\n",
        "    )\n",
        "    pergunta_reflexao = call_agent(\n",
        "        reflexao,\n",
        "        \"Para finalizarmos o dia, diz-me: O que fizeste hoje que merece reconhecimento? E o que aprendeste hoje?\",\n",
        "    )\n",
        "    return pergunta_reflexao"
      ],
      "cell_type": "code",
      "metadata": {
        "id": "lZrgOgCE_nFj"
      },
      "id": "lZrgOgCE_nFj",
      "execution_count": null,
      "outputs": []
    },
    {
      "source": [
        "# VIVA+ – Uma conversa por dia pra você não viver no automático\n",
        "# Feito com base na Imersão IA da Alura + Google\n",
        "\n",
        "\n",
        "print(\"🌟 Bem-vindo ao VIVA+ – Sua jornada diária de bem-estar 🌟\")\n",
        "\n",
        "#Função para executar os agentes com base no estado emocional do utilizador\n",
        "def main():\n",
        "    \"\"\"\n",
        "    Função principal para executar o sistema VIVA+.\n",
        "    \"\"\"\n",
        "    print(\"🚀 Iniciando o Sistema VIVA+ 🚀\")\n",
        "    print(\"Uma conversa por dia para você não viver no automático.\")\n",
        "\n",
        "    # Agente 1: Radar Interno\n",
        "    print(\"\\n--- Agente 1: Radar Interno ---\")\n",
        "    pergunta_radar_interno = agente_radar_interno()\n",
        "    print(pergunta_radar_interno)\n",
        "    estado_emocional = input(\"A sua resposta: \")\n",
        "\n",
        "    # Agente 2: Ação Consciente\n",
        "    print(\"\\n--- Agente 2: Ação Consciente ---\")\n",
        "    resposta_acao_consciente = agente_acao_consciente(estado_emocional)\n",
        "    print(resposta_acao_consciente)\n",
        "\n",
        "    # Agente 3: Recompensa do Bem\n",
        "    print(\"\\n--- Agente 3: Recompensa do Bem ---\")\n",
        "    resposta_recompensa_do_bem = agente_recompensa_do_bem()\n",
        "    print(resposta_recompensa_do_bem)\n",
        "\n",
        "    # Agente 4: Reflexão\n",
        "    print(\"\\n--- Agente 4: Agente de Reflexão ---\") # Corrected agent name for print\n",
        "    pergunta_reflexao = agente_reflexao()\n",
        "    print(pergunta_reflexao)\n",
        "    resposta_reflexao = input(\"As suas respostas: \")\n",
        "\n",
        "    # Simula o salvamento dos dados (substituir por Google Sheets)\n",
        "    print(\"\\n--- Registro da Reflexão ---\")\n",
        "    hoje = date.today().strftime(\"%d/%m/%Y\")\n",
        "    print(f\"Data: {hoje}\")\n",
        "    print(f\"Estado Emocional: {estado_emocional}\")\n",
        "    print(f\"Reflexão: {resposta_reflexao}\")\n",
        "    print(\"Dados registados com sucesso! (Simulação)\")\n",
        "\n",
        "    print(\n",
        "        \"\\n✨ Mensagem Final: O VIVA+ é mais do que um sistema de IA. É um lembrete diário de que você importa. ✨\"\n",
        "    )\n",
        "\n",
        "# It's good practice to use the __name__ == \"__main__\" block to ensure\n",
        "# the main function only runs when the script is executed directly.\n",
        "# However, in a Jupyter notebook cell, the check \"if name == \"main\":\"\n",
        "# is not necessary as the cell's code runs directly.\n",
        "# For clarity and consistency, it's still good to include it if you\n",
        "# plan to convert this notebook to a script later.\n",
        "if __name__ == \"__main__\": # Corrected syntax for the conditional check\n",
        "    main()"
      ],
      "cell_type": "code",
      "metadata": {
        "colab": {
          "base_uri": "https://localhost:8080/"
        },
        "id": "nKQ_ZF_kALag",
        "outputId": "f30ef96e-385d-486f-db94-f89cd4b9dd70"
      },
      "id": "nKQ_ZF_kALag",
      "execution_count": null,
      "outputs": [
        {
          "output_type": "stream",
          "name": "stdout",
          "text": [
            "🌟 Bem-vindo ao VIVA+ – Sua jornada diária de bem-estar 🌟\n",
            "🚀 Iniciando o Sistema VIVA+ 🚀\n",
            "Uma conversa por dia para você não viver no automático.\n",
            "\n",
            "--- Agente 1: Radar Interno ---\n",
            "Bom dia! Para começarmos o dia de forma consciente, como te sentes hoje a nível mental, emocional e físico?\n",
            "\n",
            "\n",
            "A sua resposta: esperançoso\n",
            "\n",
            "--- Agente 2: Ação Consciente ---\n",
            "Com base no seu estado emocional de esperança, aqui estão algumas sugestões de microações, foco e autocuidado:\n",
            "\n",
            "*   Microação: concentre-se na gratidão. Dedique alguns minutos para anotar três coisas pelas quais você é grato.\n",
            "*   Foco: visualize seus objetivos. Reserve um tempo para visualizar seus objetivos e os passos que você precisa tomar para alcançá-los.\n",
            "*   Autocuidado: envolva-se em uma atividade que lhe traga alegria. Isso pode ser qualquer coisa, como ler um livro, ouvir música ou passar tempo na natureza.\n",
            "\n",
            "\n",
            "--- Agente 3: Recompensa do Bem ---\n",
            "Acredite em si mesmo e tudo será possível. 😊\n",
            "\n",
            "\n",
            "--- Agente 4: Agente de Reflexão ---\n",
            "Que maravilha que tenhamos chegado ao final do dia! Para aproveitarmos ao máximo este momento de reflexão, gostaria de te fazer mais duas perguntas:\n",
            "\n",
            "1.  Se pudesses dar um conselho a ti mesmo hoje de manhã, qual seria?\n",
            "2.  Pelo que te sentes mais grato neste momento?\n",
            "\n",
            "As suas respostas: nao pare, sou grato pela vida\n",
            "\n",
            "--- Registro da Reflexão ---\n",
            "Data: 17/05/2025\n",
            "Estado Emocional: esperançoso\n",
            "Reflexão: nao pare, sou grato pela vida\n",
            "Dados registados com sucesso! (Simulação)\n",
            "\n",
            "✨ Mensagem Final: O VIVA+ é mais do que um sistema de IA. É um lembrete diário de que você importa. ✨\n"
          ]
        }
      ]
    }
  ],
  "metadata": {
    "colab": {
      "provenance": []
    },
    "language_info": {
      "name": "python"
    },
    "kernelspec": {
      "name": "python3",
      "display_name": "Python 3"
    }
  },
  "nbformat": 4,
  "nbformat_minor": 5
}